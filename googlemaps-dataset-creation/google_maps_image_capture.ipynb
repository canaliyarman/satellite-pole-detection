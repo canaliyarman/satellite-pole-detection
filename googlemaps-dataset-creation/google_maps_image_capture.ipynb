{
  "cells": [
    {
      "cell_type": "markdown",
      "metadata": {
        "id": "zfHN-YH1gw5O"
      },
      "source": [
        "# Image Acquiring Utilizing Google Maps Static API\n",
        "In order to use it you need to enable Google Maps Static API from https://console.cloud.google.com/google/maps-apis and create an API key.\n",
        "\n",
        "Google Maps API Request maker, used for acquiring images of utility poles.\n",
        "CSV files contain geographic locations of different types of poles, only\n",
        "utility poles are used. The acquired images were manually uploaded to the roboflow dataset for annotation.\n",
        "\n",
        "https://app.roboflow.com/telephonepoledetection/telephone-poles/deploy"
      ]
    },
    {
      "cell_type": "code",
      "execution_count": 25,
      "metadata": {
        "id": "x2ZlAAbIcDmV"
      },
      "outputs": [],
      "source": [
        "import requests\n",
        "import pandas as pd\n",
        "from PIL import Image\n",
        "import os\n",
        "import numpy as np\n",
        "from io import BytesIO\n",
        "import cv2 as cv\n",
        "from matplotlib import pyplot as plt"
      ]
    },
    {
      "cell_type": "code",
      "execution_count": 19,
      "metadata": {
        "id": "AuMIL3wrcDmW"
      },
      "outputs": [],
      "source": [
        "\n",
        "os.makedirs('./dataset/california/',exist_ok=True)\n",
        "\n",
        "os.makedirs('./dataset/dc/', exist_ok=True)\n",
        "\n",
        "os.makedirs('./dataset/uk/', exist_ok=True)\n",
        "\n",
        "os.makedirs('./dataset/test/', exist_ok=True)\n",
        "dataset_path_cali = './dataset/california/'\n",
        "dataset_path_dc = './dataset/dc/'\n",
        "\n",
        "uk_dataset = pd.read_csv('ukpn-lv-poles.csv')\n",
        "dataset_cali = pd.read_csv('California.csv')\n",
        "dataset_dc = pd.read_csv('DC.csv')"
      ]
    },
    {
      "cell_type": "code",
      "execution_count": 7,
      "metadata": {
        "id": "Xs_F9yMdcDmX",
        "outputId": "5def09db-b55b-4184-a8d6-5bfe36dc7833"
      },
      "outputs": [
        {
          "data": {
            "text/plain": [
              "array(['Power Pole', 'Telecom', nan], dtype=object)"
            ]
          },
          "execution_count": 7,
          "metadata": {},
          "output_type": "execute_result"
        }
      ],
      "source": [
        "dataset_cali['Type'].unique()"
      ]
    },
    {
      "cell_type": "code",
      "execution_count": null,
      "metadata": {
        "id": "a9LJpvCEcDmY"
      },
      "outputs": [],
      "source": [
        "telecom_dataset = dataset_cali[(dataset_cali['Type']=='Telecom')]"
      ]
    },
    {
      "cell_type": "code",
      "execution_count": 8,
      "metadata": {
        "id": "mpvAR2i9cDmY"
      },
      "outputs": [],
      "source": [
        "dataset_dc_utility = dataset_dc[(dataset_dc['DXF_LAYER'] == 'UTLPOLE')]"
      ]
    },
    {
      "cell_type": "code",
      "execution_count": 10,
      "metadata": {
        "id": "rRrCHG6ocDmZ"
      },
      "outputs": [],
      "source": [
        "coordinates_cali = dataset_cali[['Y','X','Type']]\n",
        "coordinates_dc = dataset_dc[['Y','X','DXF_LAYER']].rename({'DXF_LAYER':'Type'})"
      ]
    },
    {
      "cell_type": "code",
      "execution_count": null,
      "metadata": {
        "id": "W-8KQ9T9cDmZ",
        "outputId": "68cd797e-2d17-48d6-859f-b03c133dccbc"
      },
      "outputs": [],
      "source": [
        "coordinates_cali"
      ]
    },
    {
      "cell_type": "code",
      "execution_count": 13,
      "metadata": {
        "id": "xY_mNLzycDma"
      },
      "outputs": [],
      "source": [
        "def crop_bottom(image):\n",
        "    w, h = image.size\n",
        "    return image.crop((0, 0, w, h-20 ))\n"
      ]
    },
    {
      "cell_type": "code",
      "execution_count": 14,
      "metadata": {
        "id": "axyY9wApcDmb"
      },
      "outputs": [],
      "source": [
        "def make_request(x,y,path, type):\n",
        "    center_string = str(x) + ',' + str(y)\n",
        "    payload = {'center':center_string,'zoom':19,'size':'600x600','key':'','maptype':'satellite'}\n",
        "    r = requests.get('https://maps.googleapis.com/maps/api/staticmap', params=payload)\n",
        "    i = Image.open(BytesIO(r.content))\n",
        "    i = crop_bottom(i)\n",
        "    datapath = path + '/' + type + '_' + str(x) + '_' + str(y) + '.png'\n",
        "    i.save(datapath)\n",
        "    if r.status_code == 200:\n",
        "        return True\n",
        "    else:\n",
        "        return False"
      ]
    },
    {
      "cell_type": "code",
      "execution_count": null,
      "metadata": {
        "id": "Rz-vYkDHcDmb",
        "outputId": "a1818c59-6b85-45ac-e605-1562e90bd454"
      },
      "outputs": [],
      "source": [
        "# Test an image\n",
        "make_request(50.91811091177017, -0.24032128131631858, './', 'test')"
      ]
    },
    {
      "cell_type": "code",
      "execution_count": 26,
      "metadata": {
        "id": "LTBNBVh3cDmc"
      },
      "outputs": [],
      "source": [
        "uk_dataset[['X', 'Y']] = uk_dataset['Geo Point'].str.split(',', n=1, expand=True)\n",
        "\n",
        "uk_dataset['dist'] = uk_dataset[['X', 'Y']].apply(lambda row: np.linalg.norm((row.X, row.Y)), axis=1)\n",
        "uk_dataset.sort_values('dist', ignore_index=True, inplace=True)"
      ]
    },
    {
      "cell_type": "code",
      "execution_count": null,
      "metadata": {},
      "outputs": [],
      "source": [
        "reduced_uk_dataset = uk_dataset[uk_dataset.index % 20 == 0]\n",
        "for row  in reduced_uk_dataset.iloc[6000:8000,:].values:\n",
        "    if not make_request(row[-1], row[-2], './dataset/uk',row[3]+'_'+row[5]):\n",
        "        break"
      ]
    },
    {
      "cell_type": "code",
      "execution_count": null,
      "metadata": {
        "colab": {
          "base_uri": "https://localhost:8080/",
          "height": 144
        },
        "id": "eAJry3WZcDmd",
        "outputId": "9203d51e-8a12-4dc9-bf19-aa444bd0985c"
      },
      "outputs": [],
      "source": [
        "reduced_uk_dataset.iloc[6000:8000,:]"
      ]
    },
    {
      "cell_type": "code",
      "execution_count": null,
      "metadata": {
        "id": "xwhkFthgcDmd",
        "outputId": "59b74168-a562-4a7a-b46e-51517216045b"
      },
      "outputs": [],
      "source": [
        "for row in coordinates_cali.values:\n",
        "    # it's reversed for some reason\n",
        "    x, y, type = row[0], row[1], row[2]\n",
        "    if not make_request(x,y,dataset_path_cali,type):\n",
        "        break"
      ]
    },
    {
      "cell_type": "code",
      "execution_count": null,
      "metadata": {
        "id": "zpumpXmRcDmd"
      },
      "outputs": [],
      "source": [
        "for row in coordinates_dc.values:\n",
        "    x, y, type = row[0], row[1], row[2]\n",
        "    if not make_request(x,y,dataset_path_dc, type):\n",
        "        break"
      ]
    },
    {
      "cell_type": "code",
      "execution_count": null,
      "metadata": {
        "id": "3z2MutAzcDme",
        "outputId": "e54c6412-02b4-4fd0-dbeb-fb9e5f75df23"
      },
      "outputs": [],
      "source": [
        "img = cv.imread('./test_50.91811091177017_-0.24032128131631858.png')\n",
        "plt.plot(plt.imshow(img))"
      ]
    },
    {
      "cell_type": "code",
      "execution_count": null,
      "metadata": {
        "id": "1CcVPx5LcDmf",
        "outputId": "2230925a-6c1c-4185-8407-5a915e20e200"
      },
      "outputs": [],
      "source": [
        "img = cv.imread('./test_50.91811091177017_-0.24032128131631858.png')\n",
        "assert img is not None, \"file could not be read, check with os.path.exists()\"\n",
        "\n",
        "laplacian = cv.Laplacian(img,cv.CV_64F)\n",
        "sobelx = cv.Sobel(img,cv.CV_64F,1,0,ksize=3)\n",
        "sobely = cv.Sobel(img,cv.CV_64F,0,1,ksize=3)\n",
        "\n",
        "\n",
        "plt.subplot(2,2,1),plt.imshow(img)\n",
        "plt.title('Original'), plt.xticks([]), plt.yticks([])\n",
        "plt.subplot(2,2,2),plt.imshow(laplacian)\n",
        "plt.title('Laplacian'), plt.xticks([]), plt.yticks([])\n",
        "plt.subplot(2,2,3),plt.imshow(sobelx)\n",
        "plt.title('Sobel X'), plt.xticks([]), plt.yticks([])\n",
        "plt.subplot(2,2,4),plt.imshow(sobely)\n",
        "plt.title('Sobel Y'), plt.xticks([]), plt.yticks([])"
      ]
    }
  ],
  "metadata": {
    "colab": {
      "provenance": []
    },
    "kernelspec": {
      "display_name": "base",
      "language": "python",
      "name": "python3"
    },
    "language_info": {
      "codemirror_mode": {
        "name": "ipython",
        "version": 3
      },
      "file_extension": ".py",
      "mimetype": "text/x-python",
      "name": "python",
      "nbconvert_exporter": "python",
      "pygments_lexer": "ipython3",
      "version": "3.12.4 | packaged by Anaconda, Inc. | (main, Jun 18 2024, 15:03:56) [MSC v.1929 64 bit (AMD64)]"
    },
    "vscode": {
      "interpreter": {
        "hash": "3c06e3e46abf38078fe4dac36a0085ec2b134ebbd73dd076183d243eeca6918f"
      }
    }
  },
  "nbformat": 4,
  "nbformat_minor": 0
}
